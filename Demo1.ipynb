{
  "cells": [
    {
      "cell_type": "markdown",
      "metadata": {
        "id": "view-in-github",
        "colab_type": "text"
      },
      "source": [
        "<a href=\"https://colab.research.google.com/github/MikeGener/CPEN-21A-ECE-2-1/blob/main/Demo1.ipynb\" target=\"_parent\"><img src=\"https://colab.research.google.com/assets/colab-badge.svg\" alt=\"Open In Colab\"/></a>"
      ]
    },
    {
      "cell_type": "markdown",
      "source": [
        "#Intro to Python Programming"
      ],
      "metadata": {
        "id": "kc7P-9Qz2rLH"
      }
    },
    {
      "cell_type": "code",
      "source": [
        "if 5>2:\n",
        "  print(\"Five is greater than two\")"
      ],
      "metadata": {
        "colab": {
          "base_uri": "https://localhost:8080/"
        },
        "id": "MWFJbdwN3A53",
        "outputId": "75266e34-c198-4f07-f90d-f9fd5769c42b"
      },
      "execution_count": 1,
      "outputs": [
        {
          "output_type": "stream",
          "name": "stdout",
          "text": [
            "Five is greater than two\n"
          ]
        }
      ]
    },
    {
      "cell_type": "markdown",
      "source": [
        "#Python Variable"
      ],
      "metadata": {
        "id": "230yJAkb4TrX"
      }
    },
    {
      "cell_type": "code",
      "source": [
        "x=1\n",
        "a, b=0, 1\n",
        "a,b,c= \"Three\",\"Four\",\"Five\"\n",
        "print(x,a,b,c)"
      ],
      "metadata": {
        "colab": {
          "base_uri": "https://localhost:8080/"
        },
        "id": "wiFlPtNE4XJY",
        "outputId": "f18f3116-87f7-41b6-c12a-43c463c4eb78"
      },
      "execution_count": 2,
      "outputs": [
        {
          "output_type": "stream",
          "name": "stdout",
          "text": [
            "1 Three Four Five\n"
          ]
        }
      ]
    },
    {
      "cell_type": "code",
      "source": [
        "d= \"Sally\" #This is a string\n",
        "D= \"Ana\"\n",
        "e= \"John\"\n",
        "print (D,e,d)"
      ],
      "metadata": {
        "colab": {
          "base_uri": "https://localhost:8080/"
        },
        "id": "Bu4m9rLR4nLi",
        "outputId": "1ae11e7f-3dd1-4889-dc03-70848e7925b9"
      },
      "execution_count": 3,
      "outputs": [
        {
          "output_type": "stream",
          "name": "stdout",
          "text": [
            "Ana John Sally\n"
          ]
        }
      ]
    },
    {
      "cell_type": "code",
      "source": [
        "print(type(c)) #This is a Type Function\n",
        "print(type(x))"
      ],
      "metadata": {
        "colab": {
          "base_uri": "https://localhost:8080/"
        },
        "id": "J-P5mflh43ze",
        "outputId": "d2b3ffa4-b354-4fce-8599-2b605065290f"
      },
      "execution_count": 6,
      "outputs": [
        {
          "output_type": "stream",
          "name": "stdout",
          "text": [
            "<class 'str'>\n",
            "<class 'int'>\n"
          ]
        }
      ]
    },
    {
      "cell_type": "markdown",
      "source": [
        "#Casting"
      ],
      "metadata": {
        "id": "tVS7JX7i4-9Y"
      }
    },
    {
      "cell_type": "code",
      "source": [
        "f= float(6)\n",
        "print(f)\n",
        "g= int(9)\n",
        "print(g)"
      ],
      "metadata": {
        "colab": {
          "base_uri": "https://localhost:8080/"
        },
        "id": "kwjNYNr_5CW5",
        "outputId": "533437f1-2ea0-43dd-c690-5a9f01f1432d"
      },
      "execution_count": 7,
      "outputs": [
        {
          "output_type": "stream",
          "name": "stdout",
          "text": [
            "6.0\n",
            "9\n"
          ]
        }
      ]
    },
    {
      "cell_type": "markdown",
      "source": [
        "#Multiple Variables With One Value"
      ],
      "metadata": {
        "id": "WYbHYwPK5Mha"
      }
    },
    {
      "cell_type": "code",
      "source": [
        "a= y= s= \"seven\"\n",
        "print(s, a, y)"
      ],
      "metadata": {
        "colab": {
          "base_uri": "https://localhost:8080/"
        },
        "id": "0Afe8gj75RdS",
        "outputId": "6066c092-360b-47d4-cbff-caa91ccf379a"
      },
      "execution_count": 8,
      "outputs": [
        {
          "output_type": "stream",
          "name": "stdout",
          "text": [
            "seven seven seven\n"
          ]
        }
      ]
    },
    {
      "cell_type": "code",
      "source": [
        "x= \"Educational\" \n",
        "print(\"Python Programming Is \"\"\" +x)"
      ],
      "metadata": {
        "colab": {
          "base_uri": "https://localhost:8080/"
        },
        "id": "p2ecx8sz5eCq",
        "outputId": "9ed62922-65fe-41a4-e234-580ad11cecad"
      },
      "execution_count": 9,
      "outputs": [
        {
          "output_type": "stream",
          "name": "stdout",
          "text": [
            "Python Programming Is Educational\n"
          ]
        }
      ]
    },
    {
      "cell_type": "markdown",
      "source": [
        "#Operations in Python"
      ],
      "metadata": {
        "id": "LlSzkeAo5n8f"
      }
    },
    {
      "cell_type": "code",
      "source": [
        "x= 6\n",
        "y= 9\n",
        "x+=y #This is the same as x= x+y\n",
        "print(x+y)\n",
        "print(x*y)\n",
        "print(x)\n"
      ],
      "metadata": {
        "colab": {
          "base_uri": "https://localhost:8080/"
        },
        "id": "5OYmlKNG5r5o",
        "outputId": "f8a0ea68-68e8-4546-8742-5b71d582878f"
      },
      "execution_count": 10,
      "outputs": [
        {
          "output_type": "stream",
          "name": "stdout",
          "text": [
            "24\n",
            "135\n",
            "15\n"
          ]
        }
      ]
    },
    {
      "cell_type": "code",
      "source": [
        "x=1\n",
        "y=25\n",
        "not(x>y or y==x)"
      ],
      "metadata": {
        "colab": {
          "base_uri": "https://localhost:8080/"
        },
        "id": "nhR3A-Hr51PU",
        "outputId": "8aed65b1-30ce-4077-dc6f-d6785966f6ac"
      },
      "execution_count": 11,
      "outputs": [
        {
          "output_type": "execute_result",
          "data": {
            "text/plain": [
              "True"
            ]
          },
          "metadata": {},
          "execution_count": 11
        }
      ]
    },
    {
      "cell_type": "code",
      "source": [
        "x is y"
      ],
      "metadata": {
        "colab": {
          "base_uri": "https://localhost:8080/"
        },
        "id": "AvFw66xB57aH",
        "outputId": "d6bfa4b8-13be-49ee-9284-6af464316bb9"
      },
      "execution_count": 12,
      "outputs": [
        {
          "output_type": "execute_result",
          "data": {
            "text/plain": [
              "False"
            ]
          },
          "metadata": {},
          "execution_count": 12
        }
      ]
    },
    {
      "cell_type": "code",
      "source": [
        "x is not y"
      ],
      "metadata": {
        "colab": {
          "base_uri": "https://localhost:8080/"
        },
        "id": "lOI7e8K-5-Nd",
        "outputId": "afd290e3-07f8-478f-d166-c081f41e6f3b"
      },
      "execution_count": 13,
      "outputs": [
        {
          "output_type": "execute_result",
          "data": {
            "text/plain": [
              "True"
            ]
          },
          "metadata": {},
          "execution_count": 13
        }
      ]
    }
  ],
  "metadata": {
    "colab": {
      "collapsed_sections": [],
      "name": "Demo1.ipynb",
      "provenance": [],
      "include_colab_link": true
    },
    "kernelspec": {
      "display_name": "Python 3",
      "name": "python3"
    }
  },
  "nbformat": 4,
  "nbformat_minor": 0
}