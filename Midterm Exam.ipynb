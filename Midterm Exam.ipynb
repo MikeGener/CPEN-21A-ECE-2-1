{
  "nbformat": 4,
  "nbformat_minor": 0,
  "metadata": {
    "colab": {
      "name": "Midterm Exam",
      "provenance": [],
      "collapsed_sections": [],
      "include_colab_link": true
    },
    "kernelspec": {
      "display_name": "Python 3",
      "name": "python3"
    }
  },
  "cells": [
    {
      "cell_type": "markdown",
      "metadata": {
        "id": "view-in-github",
        "colab_type": "text"
      },
      "source": [
        "<a href=\"https://colab.research.google.com/github/MikeGener/CPEN-21A-ECE-2-1/blob/main/Midterm%20Exam.ipynb\" target=\"_parent\"><img src=\"https://colab.research.google.com/assets/colab-badge.svg\" alt=\"Open In Colab\"/></a>"
      ]
    },
    {
      "cell_type": "markdown",
      "metadata": {
        "id": "6LMqys1z7HMp"
      },
      "source": [
        "Problem Statement 1"
      ]
    },
    {
      "cell_type": "code",
      "metadata": {
        "colab": {
          "base_uri": "https://localhost:8080/"
        },
        "id": "pk3ZV8-I3XnS",
        "outputId": "1ae9dab5-fe47-40c5-f674-df4604edef5c"
      },
      "source": [
        "name=\"Name:Mike Merill Punzalan Gener\"\n",
        "studentnumber=\"Student number:202012306\"\n",
        "age=\"Age:19 years old\"\n",
        "birthday=\"Birthday:March 6, 2002\"\n",
        "address=\"Address:Blk 17 Lt 28 Camachile Subdivision,Pasong Camachile 1,General Trias,Cavite\"\n",
        "course=\"Course:Bachelor of Science in Electronics and Communications Engineering\"\n",
        "LastSemGwa=\"Last Sem Gwa: 1.5\"\n",
        "print(name)\n",
        "print(studentnumber)\n",
        "print(age)\n",
        "print(birthday)\n",
        "print(address)\n",
        "print(course)\n",
        "print(LastSemGwa)\n"
      ],
      "execution_count": 12,
      "outputs": [
        {
          "output_type": "stream",
          "name": "stdout",
          "text": [
            "Name:Mike Merill Punzalan Gener\n",
            "Student number:202012306\n",
            "Age:19 years old\n",
            "Birthday:March 6, 2002\n",
            "Address:Blk 17 Lt 28 Camachile Subdivision,Pasong Camachile 1,General Trias,Cavite\n",
            "Course:Bachelor of Science in Electronics and Communications Engineering\n",
            "Last Sem Gwa: 1.5\n"
          ]
        }
      ]
    },
    {
      "cell_type": "markdown",
      "metadata": {
        "id": "PaKIw3Xx83Iq"
      },
      "source": [
        "Problem Statement 2"
      ]
    },
    {
      "cell_type": "code",
      "metadata": {
        "colab": {
          "base_uri": "https://localhost:8080/"
        },
        "id": "-3SDCOZz860x",
        "outputId": "1565a616-c141-4961-99a3-181b4ba190a0"
      },
      "source": [
        "#Suppose the numeric variable n has value 4 and the string variable answ has value \"Y\". Determine whether each of the following conditions is true or false.\n",
        "\n",
        "n=4 \n",
        "answ=\"Y\"\n",
        "\n",
        "print(bool(2<n)and(n<6)) #a\n",
        "print(bool(2<n)or(n==6)) #b\n",
        "print(bool(not(2<n)or(n==6))) #c\n",
        "print(bool(not(n<6))) #d\n",
        "print(bool(answ==\"Y\")or(answ==\"y\")) #e\n",
        "print(bool(answ==\"Y\")and(answ==\"y\")) #f\n",
        "print(bool(not(answ==\"y\"))) #g\n",
        "print(bool(2<n)and(n==5+1))or(answ==\"No\") #h\n",
        "print(bool(n==2))and(n==7)or(answ==\"Y\") #i\n",
        "print(bool(n==2))and((n==7)or(answ==\"Y\")) #j\n"
      ],
      "execution_count": 51,
      "outputs": [
        {
          "output_type": "stream",
          "name": "stdout",
          "text": [
            "True\n",
            "True\n",
            "False\n",
            "False\n",
            "True\n",
            "False\n",
            "True\n",
            "False\n",
            "False\n",
            "False\n"
          ]
        }
      ]
    },
    {
      "cell_type": "markdown",
      "metadata": {
        "id": "wOSiRPtA7CMP"
      },
      "source": [
        "Problem Statement 3"
      ]
    },
    {
      "cell_type": "code",
      "metadata": {
        "colab": {
          "base_uri": "https://localhost:8080/"
        },
        "id": "m_1pyfeq6dsh",
        "outputId": "b309b1b6-dd5d-44b9-cf09-d2206cf92661"
      },
      "source": [
        "x=2\n",
        "y=-3\n",
        "w=7\n",
        "z=-10\n",
        "\n",
        "print(x/y)\n",
        "print(w/y/x)\n",
        "print(z/y%x)\n",
        "print(x%-y*w)\n",
        "print(x%y)\n",
        "print(z%w-y/x*5+5)\n",
        "print(9-x%(2+y))\n",
        "print(z//w)\n",
        "print((2+y)**2)\n",
        "print(w/x*2)\n"
      ],
      "execution_count": 19,
      "outputs": [
        {
          "output_type": "stream",
          "name": "stdout",
          "text": [
            "-0.6666666666666666\n",
            "-1.1666666666666667\n",
            "1.3333333333333335\n",
            "14\n",
            "-1\n",
            "16.5\n",
            "9\n",
            "-2\n",
            "1\n",
            "7.0\n"
          ]
        }
      ]
    }
  ]
}