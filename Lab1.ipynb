{
  "nbformat": 4,
  "nbformat_minor": 0,
  "metadata": {
    "colab": {
      "name": "Welcome To Colaboratory",
      "provenance": [],
      "collapsed_sections": [],
      "include_colab_link": true
    },
    "kernelspec": {
      "display_name": "Python 3",
      "name": "python3"
    }
  },
  "cells": [
    {
      "cell_type": "markdown",
      "metadata": {
        "id": "view-in-github",
        "colab_type": "text"
      },
      "source": [
        "<a href=\"https://colab.research.google.com/github/MikeGener/CPEN-21A-ECE-2-1/blob/main/Lab1.ipynb\" target=\"_parent\"><img src=\"https://colab.research.google.com/assets/colab-badge.svg\" alt=\"Open In Colab\"/></a>"
      ]
    },
    {
      "cell_type": "markdown",
      "metadata": {
        "id": "7zGuZq7y24-R"
      },
      "source": [
        "Laboratory 1"
      ]
    },
    {
      "cell_type": "code",
      "metadata": {
        "colab": {
          "base_uri": "https://localhost:8080/"
        },
        "id": "wjmEkEyq21sg",
        "outputId": "d2eeb7f4-fc38-449b-a5b2-8e9424ec62b1"
      },
      "source": [
        "a=\"Welcome to Python Programming\"\n",
        "name=\"Name:Mike Merill P. Gener\"\n",
        "address=\"Address:Block 17 Lot 28 Camachile Subdivision, Pasong Camachile 1, General Trias City, Cavite\"\n",
        "age=\"Age:19 years old\"\n",
        "print(a)\n",
        "print(name)\n",
        "print(address)\n",
        "print(age)"
      ],
      "execution_count": 2,
      "outputs": [
        {
          "output_type": "stream",
          "name": "stdout",
          "text": [
            "Welcome to Python Programming\n",
            "Name:Mike Merill P. Gener\n",
            "Address:Block 17 Lot 28 Camachile Subdivision, Pasong Camachile 1, General Trias City, Cavite\n",
            "Age:19 years old\n"
          ]
        }
      ]
    }
  ]
}