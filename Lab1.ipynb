{
  "nbformat": 4,
  "nbformat_minor": 0,
  "metadata": {
    "colab": {
      "name": "Welcome To Colaboratory",
      "provenance": [],
      "collapsed_sections": [],
      "include_colab_link": true
    },
    "kernelspec": {
      "display_name": "Python 3",
      "name": "python3"
    }
  },
  "cells": [
    {
      "cell_type": "markdown",
      "metadata": {
        "id": "view-in-github",
        "colab_type": "text"
      },
      "source": [
        "<a href=\"https://colab.research.google.com/github/MikeGener/CPEN-21A-ECE-2-1/blob/main/Lab1.ipynb\" target=\"_parent\"><img src=\"https://colab.research.google.com/assets/colab-badge.svg\" alt=\"Open In Colab\"/></a>"
      ]
    },
    {
      "cell_type": "markdown",
      "metadata": {
        "id": "7zGuZq7y24-R"
      },
      "source": [
        "Laboratory 1"
      ]
    },
    {
      "cell_type": "code",
      "metadata": {
        "id": "wjmEkEyq21sg"
      },
      "source": [
        "print(\"Welcome to Python Programming\")\n",
        "print(\"Name: Mike Merill P. Gener\")\n",
        "print(\"Address: Block 17 Lot 28 Camachile Subdivision, Pasong Camachile 1, General Trias City, Cavite\")\n",
        "print(\"Age: 19 years old\")"
      ],
      "execution_count": null,
      "outputs": []
    }
  ]
}