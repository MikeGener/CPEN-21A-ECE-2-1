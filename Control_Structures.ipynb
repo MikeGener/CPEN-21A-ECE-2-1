{
  "cells": [
    {
      "cell_type": "markdown",
      "metadata": {
        "id": "view-in-github",
        "colab_type": "text"
      },
      "source": [
        "<a href=\"https://colab.research.google.com/github/MikeGener/CPEN-21A-ECE-2-1/blob/main/Control_Structures.ipynb\" target=\"_parent\"><img src=\"https://colab.research.google.com/assets/colab-badge.svg\" alt=\"Open In Colab\"/></a>"
      ]
    },
    {
      "cell_type": "markdown",
      "source": [
        "# If statement"
      ],
      "metadata": {
        "id": "YzcwN-fVGLOE"
      }
    },
    {
      "cell_type": "code",
      "source": [
        "a=12\n",
        "b=100\n",
        "if b>a:\n",
        "  print(\"b is greater than a\")"
      ],
      "metadata": {
        "colab": {
          "base_uri": "https://localhost:8080/"
        },
        "id": "GUQ6Jk3VEC2k",
        "outputId": "c42b4359-80dd-486c-9724-e9c482881f49"
      },
      "execution_count": null,
      "outputs": [
        {
          "output_type": "stream",
          "name": "stdout",
          "text": [
            "b is greater than a\n"
          ]
        }
      ]
    },
    {
      "cell_type": "markdown",
      "source": [
        "# Elif statement"
      ],
      "metadata": {
        "id": "0Dq0mFt9GDTX"
      }
    },
    {
      "cell_type": "code",
      "source": [
        "a=12\n",
        "b=13\n",
        "if b>a:\n",
        "  print(\"bis greater than a\")\n",
        "elif b==a:\n",
        "    print(\"b is equal to a\") "
      ],
      "metadata": {
        "colab": {
          "base_uri": "https://localhost:8080/"
        },
        "id": "TFL3VIuuIQeb",
        "outputId": "7fa2328a-341c-4675-8d8d-28a2d7193512"
      },
      "execution_count": 14,
      "outputs": [
        {
          "output_type": "stream",
          "name": "stdout",
          "text": [
            "bis greater than a\n"
          ]
        }
      ]
    },
    {
      "cell_type": "markdown",
      "source": [
        "# Else statement"
      ],
      "metadata": {
        "id": "r3KSWIYkJe-i"
      }
    },
    {
      "cell_type": "code",
      "source": [
        "a=30\n",
        "b=30\n",
        "if a>b:\n",
        "  print(\"a is greater than b\")\n",
        "elif b>a:\n",
        "  print(\"b is greater than a\")\n",
        "else:\n",
        "  print(\"a is equal to b\")"
      ],
      "metadata": {
        "colab": {
          "base_uri": "https://localhost:8080/"
        },
        "id": "KQBnEiL2Ji8s",
        "outputId": "294abc13-9f6c-4145-b24c-6f6be45dacd3"
      },
      "execution_count": 15,
      "outputs": [
        {
          "output_type": "stream",
          "name": "stdout",
          "text": [
            "a is equal to b\n"
          ]
        }
      ]
    },
    {
      "cell_type": "markdown",
      "source": [
        "# Short Hand If statement"
      ],
      "metadata": {
        "id": "ixVZgZc1KKK_"
      }
    },
    {
      "cell_type": "code",
      "source": [
        "a=12\n",
        "b=6\n",
        "if a>b:\n",
        "  print(\"a is greater than b\")"
      ],
      "metadata": {
        "colab": {
          "base_uri": "https://localhost:8080/"
        },
        "id": "wYm1K2L2KOgv",
        "outputId": "ed6e0447-e3a0-415d-952b-8e32d275a9c1"
      },
      "execution_count": 16,
      "outputs": [
        {
          "output_type": "stream",
          "name": "stdout",
          "text": [
            "a is greater than b\n"
          ]
        }
      ]
    },
    {
      "cell_type": "markdown",
      "source": [
        "# Short Hand If... Else statement"
      ],
      "metadata": {
        "id": "HpM_9cHcKhJU"
      }
    },
    {
      "cell_type": "code",
      "source": [
        "a=7\n",
        "b=14\n",
        "print(\"a is greater than b\")if a>b else print(\"b is greater than a\")"
      ],
      "metadata": {
        "colab": {
          "base_uri": "https://localhost:8080/"
        },
        "id": "n7xJOuv3Knuq",
        "outputId": "f8d0b54c-ebe4-4fae-9e3f-4aa0281d2b6c"
      },
      "execution_count": 17,
      "outputs": [
        {
          "output_type": "stream",
          "name": "stdout",
          "text": [
            "b is greater than a\n"
          ]
        }
      ]
    },
    {
      "cell_type": "markdown",
      "source": [
        "# and Logical condition"
      ],
      "metadata": {
        "id": "qJ7glCfsLLhi"
      }
    },
    {
      "cell_type": "code",
      "source": [
        "a=200\n",
        "b=300\n",
        "c=500\n",
        "if a>b and c>a:\n",
        "  print(\"Both conditions are True\")\n",
        "else:\n",
        "  print(\"Evaluated as False\")"
      ],
      "metadata": {
        "colab": {
          "base_uri": "https://localhost:8080/"
        },
        "id": "nTyDwIQ3LPMb",
        "outputId": "240106e8-c89e-4bcf-f82d-69e9ce34a45f"
      },
      "execution_count": 18,
      "outputs": [
        {
          "output_type": "stream",
          "name": "stdout",
          "text": [
            "Evaluated as False\n"
          ]
        }
      ]
    },
    {
      "cell_type": "markdown",
      "source": [
        "# Or Logical condition"
      ],
      "metadata": {
        "id": "yS4ucUPSLtec"
      }
    },
    {
      "cell_type": "code",
      "source": [
        "a=200\n",
        "b=300\n",
        "c=500\n",
        "if a>b or c>a:\n",
        "  print(\"Evaluated as True\")"
      ],
      "metadata": {
        "colab": {
          "base_uri": "https://localhost:8080/"
        },
        "id": "GtNN6TpVLxCM",
        "outputId": "6a5413d9-50a3-4732-9249-a9260cb45651"
      },
      "execution_count": 19,
      "outputs": [
        {
          "output_type": "stream",
          "name": "stdout",
          "text": [
            "Evaluated as True\n"
          ]
        }
      ]
    },
    {
      "cell_type": "markdown",
      "source": [
        "# Nested If... Else statement"
      ],
      "metadata": {
        "id": "AJt90C5DL_OS"
      }
    },
    {
      "cell_type": "code",
      "source": [
        "x=20\n",
        "\n",
        "if x>10:\n",
        "  print(\"Above ten\")\n",
        "  if x>20:\n",
        "    print(\"Above twenty\")\n",
        "  else:\n",
        "    print(\"Above ten but Not above twenty\")\n",
        "else:\n",
        "  print(\"Not above ten\")"
      ],
      "metadata": {
        "colab": {
          "base_uri": "https://localhost:8080/"
        },
        "id": "4suCAJZxME3q",
        "outputId": "34e47785-af64-4db5-ba2b-2ebba975b346"
      },
      "execution_count": 20,
      "outputs": [
        {
          "output_type": "stream",
          "name": "stdout",
          "text": [
            "Above ten\n",
            "Above ten but Not above twenty\n"
          ]
        }
      ]
    },
    {
      "cell_type": "markdown",
      "source": [
        "# Example 1"
      ],
      "metadata": {
        "id": "7JYtxCnKMrRr"
      }
    },
    {
      "cell_type": "code",
      "source": [
        "# The qualifying age to vote \n",
        "age=int(input(\"Enter your age:\"))\n",
        "if age>=18:\n",
        "  print(\"You are qualified to vote\")\n",
        "else:\n",
        "  print(\"You are not qualified to vote\")\n",
        " "
      ],
      "metadata": {
        "colab": {
          "base_uri": "https://localhost:8080/"
        },
        "id": "h1d7r8oEMt3M",
        "outputId": "9624c919-318e-4ecb-bfa5-a411d6615ef4"
      },
      "execution_count": 21,
      "outputs": [
        {
          "output_type": "stream",
          "name": "stdout",
          "text": [
            "Enter your age:15\n",
            "You are not qualified to vote\n"
          ]
        }
      ]
    },
    {
      "cell_type": "markdown",
      "source": [
        "# Example 2"
      ],
      "metadata": {
        "id": "--AemEeOOGnE"
      }
    },
    {
      "cell_type": "code",
      "source": [
        "num=int(input(\"Enter the number:\"))\n",
        "if num==0:\n",
        "  print(\"Zero\")\n",
        "elif num>0:\n",
        "  print(\"Positive\")\n",
        "else:\n",
        "  print(\"Negative\")"
      ],
      "metadata": {
        "colab": {
          "base_uri": "https://localhost:8080/"
        },
        "id": "7Fts5qE9OIgt",
        "outputId": "c935a11b-7f5e-4acc-cd6b-d8079c6e1d30"
      },
      "execution_count": 22,
      "outputs": [
        {
          "output_type": "stream",
          "name": "stdout",
          "text": [
            "Enter the number:-125\n",
            "Negative\n"
          ]
        }
      ]
    }
  ],
  "metadata": {
    "colab": {
      "collapsed_sections": [],
      "name": "Control Structures.ipynb",
      "provenance": [],
      "include_colab_link": true
    },
    "kernelspec": {
      "display_name": "Python 3",
      "name": "python3"
    }
  },
  "nbformat": 4,
  "nbformat_minor": 0
}