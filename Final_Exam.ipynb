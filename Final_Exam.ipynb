{
  "cells": [
    {
      "cell_type": "markdown",
      "metadata": {
        "id": "view-in-github",
        "colab_type": "text"
      },
      "source": [
        "<a href=\"https://colab.research.google.com/github/MikeGener/CPEN-21A-ECE-2-1/blob/main/Final_Exam.ipynb\" target=\"_parent\"><img src=\"https://colab.research.google.com/assets/colab-badge.svg\" alt=\"Open In Colab\"/></a>"
      ]
    },
    {
      "cell_type": "markdown",
      "source": [
        "#Problem Statement #1"
      ],
      "metadata": {
        "id": "oZsDZB8YNZoe"
      }
    },
    {
      "cell_type": "code",
      "source": [
        "summation = 0\n",
        "index = 0\n",
        "temp = 0\n",
        "\n",
        "while index < 10:\n",
        "    print(\"[\" + str(index + 1) + \"]Enter a number less than 5: \")\n",
        "    temp = input()\n",
        "\n",
        "    if int(temp) < 5:\n",
        "        summation += int(temp)\n",
        "        index += 1\n",
        "\n",
        "print(\"Summation: \" + str(summation))"
      ],
      "metadata": {
        "id": "8x_G3wc7Nd6U",
        "colab": {
          "base_uri": "https://localhost:8080/"
        },
        "outputId": "32216b30-2364-4b3d-ceec-d98413f31f75"
      },
      "execution_count": 1,
      "outputs": [
        {
          "output_type": "stream",
          "name": "stdout",
          "text": [
            "[1]Enter a number less than 5: \n",
            "3\n",
            "[2]Enter a number less than 5: \n",
            "2\n",
            "[3]Enter a number less than 5: \n",
            "1\n",
            "[4]Enter a number less than 5: \n",
            "0\n",
            "[5]Enter a number less than 5: \n",
            "4\n",
            "[6]Enter a number less than 5: \n",
            "1\n",
            "[7]Enter a number less than 5: \n",
            "2\n",
            "[8]Enter a number less than 5: \n",
            "3\n",
            "[9]Enter a number less than 5: \n",
            "4\n",
            "[10]Enter a number less than 5: \n",
            "0\n",
            "Summation: 20\n"
          ]
        }
      ]
    },
    {
      "cell_type": "markdown",
      "source": [
        "#Problem Statement #2"
      ],
      "metadata": {
        "id": "Zksn5UcENfWi"
      }
    },
    {
      "cell_type": "code",
      "source": [
        "num=1;\n",
        "data={};\n",
        "while(num <=5):\n",
        "  i = str(num);\n",
        "  data[num] = input(\"Enter Number:\")\n",
        "  print(\"Value for Number \"+ i +\" is \"+ data[num])\n",
        "  num+=1\n",
        "  if(num==6):\n",
        "    sum=float(data[1])+float(data[5])\n",
        "print(\"The sum of the first and last number is: \" + str(sum))"
      ],
      "metadata": {
        "colab": {
          "base_uri": "https://localhost:8080/"
        },
        "id": "aQBwAO53NqO5",
        "outputId": "c51b3321-3b86-4072-9bfa-e7fd93aa5a47"
      },
      "execution_count": null,
      "outputs": [
        {
          "output_type": "stream",
          "name": "stdout",
          "text": [
            "Enter Number:1\n",
            "Value for Number 1 is 1\n",
            "Enter Number:2\n",
            "Value for Number 2 is 2\n",
            "Enter Number:3\n",
            "Value for Number 3 is 3\n",
            "Enter Number:4\n",
            "Value for Number 4 is 4\n",
            "Enter Number:5\n",
            "Value for Number 5 is 5\n",
            "The sum of the first and last number is: 6.0\n"
          ]
        }
      ]
    },
    {
      "cell_type": "markdown",
      "source": [
        "#Problem Statement #3"
      ],
      "metadata": {
        "id": "YB5g0vefOtPa"
      }
    },
    {
      "cell_type": "code",
      "source": [
        "grade=float(input(\"Enter your Grade:\"))\n",
        "if grade >=90: print(\"A\")\n",
        "else:\n",
        "  if grade >=80: print(\"B\")\n",
        "  elif grade >=70: print(\"C\")\n",
        "  elif grade >=60: print(\"D\")\n",
        "  else: print(\"F\")"
      ],
      "metadata": {
        "colab": {
          "base_uri": "https://localhost:8080/"
        },
        "id": "Zq2yIgdKOwH6",
        "outputId": "b9e9ce53-521e-46f8-ab18-69c6898791f4"
      },
      "execution_count": null,
      "outputs": [
        {
          "output_type": "stream",
          "name": "stdout",
          "text": [
            "Enter your Grade:92\n",
            "A\n"
          ]
        }
      ]
    }
  ],
  "metadata": {
    "colab": {
      "collapsed_sections": [],
      "name": "Final Exam",
      "provenance": [],
      "include_colab_link": true
    },
    "kernelspec": {
      "display_name": "Python 3",
      "name": "python3"
    }
  },
  "nbformat": 4,
  "nbformat_minor": 0
}